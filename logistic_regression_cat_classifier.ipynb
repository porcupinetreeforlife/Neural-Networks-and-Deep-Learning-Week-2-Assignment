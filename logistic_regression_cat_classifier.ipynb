{
  "nbformat": 4,
  "nbformat_minor": 0,
  "metadata": {
    "colab": {
      "provenance": [],
      "authorship_tag": "ABX9TyP4c/4xutgmrhJoRiOURHAM",
      "include_colab_link": true
    },
    "kernelspec": {
      "name": "python3",
      "display_name": "Python 3"
    },
    "language_info": {
      "name": "python"
    }
  },
  "cells": [
    {
      "cell_type": "markdown",
      "metadata": {
        "id": "view-in-github",
        "colab_type": "text"
      },
      "source": [
        "<a href=\"https://colab.research.google.com/github/porcupinetreeforlife/Neural-Networks-and-Deep-Learning-Week-2-Assignment/blob/main/logistic_regression_cat_classifier.ipynb\" target=\"_parent\"><img src=\"https://colab.research.google.com/assets/colab-badge.svg\" alt=\"Open In Colab\"/></a>"
      ]
    },
    {
      "cell_type": "markdown",
      "source": [
        "# Logistic Regression Classifier\n",
        "\n",
        "Objective: Build a logistic regression classifier to identify images of cats."
      ],
      "metadata": {
        "id": "L7RaC2QGnBga"
      }
    },
    {
      "cell_type": "markdown",
      "source": [
        "## 1 - Import necessary libraries and load the dataset"
      ],
      "metadata": {
        "id": "WbpcooXSFnXI"
      }
    },
    {
      "cell_type": "code",
      "execution_count": 55,
      "metadata": {
        "id": "prRHktcHmzyp"
      },
      "outputs": [],
      "source": [
        "import numpy as np\n",
        "import matplotlib.pyplot as plt\n",
        "import h5py\n",
        "import scipy\n",
        "from PIL import Image\n",
        "from scipy import ndimage\n",
        "from google.colab import drive\n",
        "\n",
        "%matplotlib inline"
      ]
    },
    {
      "cell_type": "code",
      "source": [
        "drive.mount('/content/drive')"
      ],
      "metadata": {
        "colab": {
          "base_uri": "https://localhost:8080/"
        },
        "id": "LkGr0m1Xtgyw",
        "outputId": "f62d749f-2698-4e87-a17a-d232948eb25d"
      },
      "execution_count": 56,
      "outputs": [
        {
          "output_type": "stream",
          "name": "stdout",
          "text": [
            "Drive already mounted at /content/drive; to attempt to forcibly remount, call drive.mount(\"/content/drive\", force_remount=True).\n"
          ]
        }
      ]
    },
    {
      "cell_type": "code",
      "source": [
        "!pwd"
      ],
      "metadata": {
        "colab": {
          "base_uri": "https://localhost:8080/"
        },
        "id": "h-y4TxtRuvc2",
        "outputId": "ab1f62f2-592a-4130-9fb2-0ef4f9f3bb1a"
      },
      "execution_count": 57,
      "outputs": [
        {
          "output_type": "stream",
          "name": "stdout",
          "text": [
            "/content\n"
          ]
        }
      ]
    },
    {
      "cell_type": "code",
      "source": [
        "def load_dataset ():\n",
        "  train_dataset = h5py.File('/content/drive/MyDrive/Datasets/train_catvnoncat.h5', \"r\")\n",
        "  train_set_x_orig = np.array(train_dataset[\"train_set_x\"][:]) # your train set features\n",
        "  train_set_y_orig = np.array(train_dataset[\"train_set_y\"][:]) # your train set labels\n",
        "\n",
        "  test_dataset = h5py.File('/content/drive/MyDrive/Datasets/test_catvnoncat.h5', \"r\")\n",
        "  test_set_x_orig = np.array(test_dataset[\"test_set_x\"][:]) # your test set features\n",
        "  test_set_y_orig = np.array(test_dataset[\"test_set_y\"][:]) # your test set labels\n",
        "\n",
        "  classes = np.array(test_dataset[\"list_classes\"][:]) # the list of classes\n",
        "\n",
        "  train_set_y_orig = train_set_y_orig.reshape((1, train_set_y_orig.shape[0]))\n",
        "  test_set_y_orig = test_set_y_orig.reshape((1, test_set_y_orig.shape[0]))\n",
        "\n",
        "  return train_set_x_orig, train_set_y_orig, test_set_x_orig, test_set_y_orig, classes"
      ],
      "metadata": {
        "id": "HNyMFor4rulN"
      },
      "execution_count": 58,
      "outputs": []
    },
    {
      "cell_type": "code",
      "source": [
        "# Load the dataset from Google Drive\n",
        "\n",
        "train_set_x_orig, train_set_y, test_set_x_orig, test_set_y, classes = load_dataset()"
      ],
      "metadata": {
        "id": "bXdlj2quv9Uv"
      },
      "execution_count": 59,
      "outputs": []
    },
    {
      "cell_type": "markdown",
      "source": [
        "## 2 - Understand the dataset and perform any necessary transformations"
      ],
      "metadata": {
        "id": "h9AX-1TRFx_H"
      }
    },
    {
      "cell_type": "code",
      "source": [
        "# Show any sample image from the dataset\n",
        "\n",
        "index = 10\n",
        "plt.imshow(train_set_x_orig[index])\n",
        "print(\"y = \" + str(train_set_y[0, index]) +\n",
        "      \", it's a '\" + classes[np.squeeze(train_set_y[:, index])].decode(\"utf-8\") +\n",
        "      \"' picture.\")"
      ],
      "metadata": {
        "colab": {
          "base_uri": "https://localhost:8080/",
          "height": 450
        },
        "id": "j9kf3Yq3wnT6",
        "outputId": "823715cb-6055-4b86-f860-624e40bccbd4"
      },
      "execution_count": 60,
      "outputs": [
        {
          "output_type": "stream",
          "name": "stdout",
          "text": [
            "y = 0, it's a 'non-cat' picture.\n"
          ]
        },
        {
          "output_type": "display_data",
          "data": {
            "text/plain": [
              "<Figure size 640x480 with 1 Axes>"
            ],
            "image/png": "[encoded data removed]"
          },
          "metadata": {}
        }
      ]
    },
    {
      "cell_type": "code",
      "source": [
        "# Find the index of the first image of a cat and load the image\n",
        "\n",
        "# Define the condition\n",
        "condition = train_set_y[0, :] == 1\n",
        "\n",
        "# Find all the indices that satisfy the given condition\n",
        "indices = np.where(condition)\n",
        "\n",
        "# Find the first element that satisfies the condition, provided it exists, and print the image\n",
        "if len(indices[0]) > 0:\n",
        "  first_index = indices[0][0]\n",
        "\n",
        "  plt.imshow(train_set_x_orig[first_index])\n",
        "  print(\"y = \" + str(train_set_y[0, first_index]) +\n",
        "        \", it's a '\" + classes[np.squeeze(train_set_y[:, first_index])].decode(\"utf-8\") +\n",
        "        \"' picture.\")"
      ],
      "metadata": {
        "colab": {
          "base_uri": "https://localhost:8080/",
          "height": 450
        },
        "id": "EhebxJUe079j",
        "outputId": "a355b433-7e58-4aaf-a3ac-df144f56640e"
      },
      "execution_count": 61,
      "outputs": [
        {
          "output_type": "stream",
          "name": "stdout",
          "text": [
            "y = 1, it's a 'cat' picture.\n"
          ]
        },
        {
          "output_type": "display_data",
          "data": {
            "text/plain": [
              "<Figure size 640x480 with 1 Axes>"
            ],
            "image/png": "[encoded data removed]"
          },
          "metadata": {}
        }
      ]
    },
    {
      "cell_type": "code",
      "source": [
        "# Find number of training examples, number of test examples and size of each image\n",
        "\n",
        "m_train = train_set_x_orig.shape[0]\n",
        "m_test = test_set_x_orig.shape[0]\n",
        "num_px = train_set_x_orig.shape[1]\n",
        "\n",
        "print(\"Number of training examples = \" + str(m_train))\n",
        "print(\"Number of test examples = \" + str(m_test))\n",
        "print(\"Size of each image = {}x{} pixels\".format(num_px, num_px))\n",
        "print(\"train_set_x shape: \" + str(train_set_x_orig.shape))\n",
        "print(\"train_set_y shape: \" + str(train_set_y.shape))\n",
        "print(\"test_set_x shape: \" + str(test_set_x_orig.shape))\n",
        "print(\"test_set_y shape: \" + str(test_set_y.shape))"
      ],
      "metadata": {
        "colab": {
          "base_uri": "https://localhost:8080/"
        },
        "id": "3SmmH7aE7gyZ",
        "outputId": "23f63271-5d1d-4f7e-9d98-4ce6cdfc68eb"
      },
      "execution_count": 62,
      "outputs": [
        {
          "output_type": "stream",
          "name": "stdout",
          "text": [
            "Number of training examples = 209\n",
            "Number of test examples = 50\n",
            "Size of each image = 64x64 pixels\n",
            "train_set_x shape: (209, 64, 64, 3)\n",
            "train_set_y shape: (1, 209)\n",
            "test_set_x shape: (50, 64, 64, 3)\n",
            "test_set_y shape: (1, 50)\n"
          ]
        }
      ]
    },
    {
      "cell_type": "code",
      "source": [
        "# Reshape the training and test examples\n",
        "\n",
        "train_set_x_flatten = train_set_x_orig.reshape(train_set_x_orig.shape[0], -1).T\n",
        "test_set_x_flatten = test_set_x_orig.reshape(test_set_x_orig.shape[0], -1).T\n",
        "\n",
        "print (\"train_set_x_flatten shape: \" + str(train_set_x_flatten.shape))\n",
        "print (\"train_set_y shape: \" + str(train_set_y.shape))\n",
        "print (\"test_set_x_flatten shape: \" + str(test_set_x_flatten.shape))\n",
        "print (\"test_set_y shape: \" + str(test_set_y.shape))\n",
        "print (\"sanity check after reshaping: \" + str(train_set_x_flatten[0:5,0]))"
      ],
      "metadata": {
        "colab": {
          "base_uri": "https://localhost:8080/"
        },
        "id": "xtRDkLyj9RJv",
        "outputId": "7463b782-fa74-445f-8048-7130891650f3"
      },
      "execution_count": 63,
      "outputs": [
        {
          "output_type": "stream",
          "name": "stdout",
          "text": [
            "train_set_x_flatten shape: (12288, 209)\n",
            "train_set_y shape: (1, 209)\n",
            "test_set_x_flatten shape: (12288, 50)\n",
            "test_set_y shape: (1, 50)\n",
            "sanity check after reshaping: [17 31 56 22 33]\n"
          ]
        }
      ]
    },
    {
      "cell_type": "code",
      "source": [
        "# Standardise the dataset by dividing each element of our array by 255\n",
        "\n",
        "train_set_x = train_set_x_flatten / 255\n",
        "test_set_x = test_set_x_flatten / 255"
      ],
      "metadata": {
        "id": "3B87wnTnCoGW"
      },
      "execution_count": 64,
      "outputs": []
    },
    {
      "cell_type": "markdown",
      "source": [
        "## 3 - Building the algorithm"
      ],
      "metadata": {
        "id": "AqeKBp5tFH1M"
      }
    },
    {
      "cell_type": "markdown",
      "source": [
        "The main steps for building a Neural Network are:\n",
        "\n",
        "- Define the model structure (such as number of input features)\n",
        "- Initialize the model's parameters\n",
        "- Loop:\n",
        "  - Calculate current loss (forward propagation)\n",
        "  - Calculate current gradient (backward propagation)\n",
        "  - Update parameters (gradient descent)\n",
        "\n",
        "We will build 1-3 separately and integrate them into one function we call model()."
      ],
      "metadata": {
        "id": "BndwfdT_GFHx"
      }
    },
    {
      "cell_type": "code",
      "source": [
        "# Define the sigmoid function\n",
        "\n",
        "def sigmoid (z):\n",
        "  \"\"\"\n",
        "  Compute the sigmoid of z\n",
        "\n",
        "  Arguments:\n",
        "  z -- A scalar or numpy array of any size\n",
        "\n",
        "  Returns:\n",
        "  sig_z -- Sigmoid of z, a scalar or numpy array of same size as z\n",
        "  \"\"\"\n",
        "\n",
        "  sig_z = 1 / (1 + np.exp(-z)) # Vectorise the whole operation to avoid loops\n",
        "\n",
        "  return sig_z"
      ],
      "metadata": {
        "id": "bFFTmEZKIk7n"
      },
      "execution_count": 65,
      "outputs": []
    },
    {
      "cell_type": "code",
      "source": [
        "# Initialise the parameters\n",
        "\n",
        "def initialise_with_zeros (dim):\n",
        "  \"\"\"\n",
        "  Initialise a numpy array of shape (dim, 1) with zeros as its elements\n",
        "\n",
        "  Arguments:\n",
        "  dim -- A scalar specifying the length of the array (or the number of parameters in this case)\n",
        "\n",
        "  Returns:\n",
        "  w -- A vector of zeros of shape (dim, 1)\n",
        "  b -- Bias term, a scalar\n",
        "  \"\"\"\n",
        "\n",
        "  w = np.zeros((dim, 1))\n",
        "  b = 0\n",
        "\n",
        "  assert(w.shape == (dim, 1))\n",
        "  assert(isinstance(b, float) or isinstance(b, int))\n",
        "\n",
        "  return w, b"
      ],
      "metadata": {
        "id": "CofgfH53LHvV"
      },
      "execution_count": 66,
      "outputs": []
    },
    {
      "cell_type": "code",
      "source": [
        "# Forward and backward propagation\n",
        "\n",
        "def propagate (w, b, X, Y):\n",
        "  \"\"\"\n",
        "  Implement the cost function and its gradient\n",
        "\n",
        "  Arguments:\n",
        "  w -- Weights of features, a vector of size (num_px * num_px * 3, 1)\n",
        "  b -- Bias term, a scalar\n",
        "  X -- Input vector, a vector of size (num_px * num_px * 3, number of examples)\n",
        "  Y -- A \"label\" vector (0 if non-cat, 1 if cat), a vector of size (1, number of examples)\n",
        "\n",
        "  Returns:\n",
        "  cost -- The negative log-likelihood cost of the logistic function\n",
        "  dw -- The partial derivative (or gradient descent) of the cost function wrt w, a numpy array of same shape as w\n",
        "  db -- The partial derivative (or gradient descent) of the cost function wrt b, a scalar\n",
        "  \"\"\"\n",
        "  m = X.shape[1]\n",
        "\n",
        "  # Forward propagation\n",
        "  A = sigmoid(w.T@X + b)\n",
        "  cost = -np.sum(np.log(A)*Y + np.log(1-A)*(1-Y)) / m\n",
        "\n",
        "  # Backward propagation\n",
        "  dw = X@(A-Y).T / m\n",
        "  db = np.sum(A-Y) / m\n",
        "\n",
        "  assert(dw.shape == w.shape)\n",
        "  assert(db.dtype == float)\n",
        "  cost = np.squeeze(cost)\n",
        "  assert(cost.shape == ())\n",
        "\n",
        "  grads = {\n",
        "      \"dw\": dw,\n",
        "      \"db\": db\n",
        "  }\n",
        "\n",
        "  return grads, cost"
      ],
      "metadata": {
        "id": "gtVKXc--LNiS"
      },
      "execution_count": 67,
      "outputs": []
    },
    {
      "cell_type": "code",
      "source": [
        "w, b, X, Y = np.array([[1.],[2.]]), 2., np.array([[1.,2.,-1.],[3.,4.,-3.2]]), np.array([[1,0,1]])\n",
        "grads, cost = propagate(w, b, X, Y)\n",
        "print (\"dw = \" + str(grads[\"dw\"]))\n",
        "print (\"db = \" + str(grads[\"db\"]))\n",
        "print (\"cost = \" + str(cost))"
      ],
      "metadata": {
        "colab": {
          "base_uri": "https://localhost:8080/"
        },
        "id": "tE1eIY67Q8vh",
        "outputId": "877fd24d-5c4c-4f88-d88d-df5248cfc2e3"
      },
      "execution_count": 68,
      "outputs": [
        {
          "output_type": "stream",
          "name": "stdout",
          "text": [
            "dw = [[0.99845601]\n",
            " [2.39507239]]\n",
            "db = 0.001455578136784208\n",
            "cost = 5.801545319394553\n"
          ]
        }
      ]
    },
    {
      "cell_type": "markdown",
      "source": [
        "## 4 - Optimisation"
      ],
      "metadata": {
        "id": "ax_t4zKhMc2m"
      }
    },
    {
      "cell_type": "markdown",
      "source": [
        "Optimise the parameters (weights and bias term) using gradient descent."
      ],
      "metadata": {
        "id": "xX3lrb9aMkmL"
      }
    },
    {
      "cell_type": "code",
      "source": [
        "def optimise (w, b, X, Y, num_iterations, learning_rate, print_cost = False):\n",
        "  \"\"\"\n",
        "  This function optimises w and b by running a gradient descent algorithm\n",
        "\n",
        "  Arguments:\n",
        "  w -- Weights of features, a vector of size (num_px * num_px * 3, 1)\n",
        "  b -- Bias term, a scalar\n",
        "  X -- Input vector, a vector of size (num_px * num_px * 3, number of examples)\n",
        "  Y -- A \"label\" vector (0 if non-cat, 1 if cat), a vector of size (1, number of examples)\n",
        "  num_iterations - Number of iterations of the optimisation loop\n",
        "  learning_rate - Learning rate of the gradient descent algorithm\n",
        "  print_cost - True to print the cost after every 100 iterations\n",
        "\n",
        "  Returns:\n",
        "  params -- dictionary containing the weights w and bias b\n",
        "  grads -- dictionary containing the gradients of the weights and bias with respect to the cost function\n",
        "  costs -- list of all the costs computed during the optimization, this will be used to plot the learning curve.\n",
        "  \"\"\"\n",
        "  costs = []\n",
        "  grads = {}\n",
        "\n",
        "  for i in range(num_iterations):\n",
        "    grads, cost = propagate(w, b, X, Y)\n",
        "\n",
        "    dw = grads[\"dw\"]\n",
        "    db = grads[\"db\"]\n",
        "\n",
        "    w = w - learning_rate*dw\n",
        "    b = b - learning_rate*db\n",
        "\n",
        "    if i % 100 == 0:\n",
        "      costs.append(cost)\n",
        "      if print_cost:\n",
        "        print(\"Cost after iteration %i: %f\" %(i, cost))\n",
        "\n",
        "  params = {\n",
        "      \"w\": w,\n",
        "      \"b\": b\n",
        "  }\n",
        "\n",
        "  return params, grads, costs"
      ],
      "metadata": {
        "id": "Z5_Qw4jwMu2d"
      },
      "execution_count": 69,
      "outputs": []
    },
    {
      "cell_type": "code",
      "source": [
        "params, grads, costs = optimise(w, b, X, Y, num_iterations = 1000, learning_rate = 0.009, print_cost = False)\n",
        "\n",
        "print (\"w = \" + str(params[\"w\"]))\n",
        "print (\"b = \" + str(params[\"b\"]))\n",
        "print (\"dw = \" + str(grads[\"dw\"]))\n",
        "print (\"db = \" + str(grads[\"db\"]))"
      ],
      "metadata": {
        "colab": {
          "base_uri": "https://localhost:8080/"
        },
        "id": "ETQ-T97jQrzO",
        "outputId": "d75862b3-5d3e-4c1c-829e-6a51c192d42a"
      },
      "execution_count": 73,
      "outputs": [
        {
          "output_type": "stream",
          "name": "stdout",
          "text": [
            "w = [[-0.64226437]\n",
            " [-0.43498153]]\n",
            "b = 2.2025594747904087\n",
            "dw = [[ 0.06282959]\n",
            " [-0.01416124]]\n",
            "db = -0.04847508604218078\n"
          ]
        }
      ]
    },
    {
      "cell_type": "code",
      "source": [
        "plt.plot(costs)"
      ],
      "metadata": {
        "colab": {
          "base_uri": "https://localhost:8080/",
          "height": 449
        },
        "id": "-7BxtAF5Txt8",
        "outputId": "f7034245-9c9d-43c5-812e-7e5c6e0e1649"
      },
      "execution_count": 74,
      "outputs": [
        {
          "output_type": "execute_result",
          "data": {
            "text/plain": [
              "[<matplotlib.lines.Line2D at 0x7928ffd1ed70>]"
            ]
          },
          "metadata": {},
          "execution_count": 74
        },
        {
          "output_type": "display_data",
          "data": {
            "text/plain": [
              "<Figure size 640x480 with 1 Axes>"
            ],
            "image/png": "[encoded data removed]"
          },
          "metadata": {}
        }
      ]
    },
    {
      "cell_type": "code",
      "source": [
        "def predict (w, b, X):\n",
        "  \"\"\"\n",
        "  Predict whether the label is 0 or 1 using learned logistic regression parameters (w, b)\n",
        "\n",
        "  Arguments:\n",
        "  w -- weights, a numpy array of size (num_px * num_px * 3, 1)\n",
        "  b -- bias, a scalar\n",
        "  X -- data of size (num_px * num_px * 3, number of examples)\n",
        "\n",
        "  Returns:\n",
        "  Y_prediction -- a numpy array (vector) containing all predictions (0/1) for the examples in X\n",
        "  \"\"\"\n",
        "  n = X.shape[0]\n",
        "  m = X.shape[1]\n",
        "  Y_prediction = np.zeros((1, m))\n",
        "  w = w.reshape((n, 1))\n",
        "\n",
        "  A = sigmoid(w.T@X + b)\n",
        "  Y_prediction = (A >= 0.5).astype(int)\n",
        "\n",
        "  assert(Y_prediction.shape == (1, m))\n",
        "\n",
        "  return Y_prediction\n"
      ],
      "metadata": {
        "id": "PVnsfyxjUoCe"
      },
      "execution_count": 77,
      "outputs": []
    },
    {
      "cell_type": "code",
      "source": [
        "w = np.array([[0.1124579],[0.23106775]])\n",
        "b = -0.3\n",
        "X = np.array([[1.,-1.1,-3.2],[1.2,2.,0.1]])\n",
        "print (\"predictions = \" + str(predict(w, b, X)))"
      ],
      "metadata": {
        "colab": {
          "base_uri": "https://localhost:8080/"
        },
        "id": "0TpWUCbsWwJC",
        "outputId": "0d162134-d983-4ac1-dd25-1418c92f7ede"
      },
      "execution_count": 78,
      "outputs": [
        {
          "output_type": "stream",
          "name": "stdout",
          "text": [
            "predictions = [[1 1 0]]\n"
          ]
        }
      ]
    },
    {
      "cell_type": "markdown",
      "source": [
        "## 5 - Merge all functions into a model"
      ],
      "metadata": {
        "id": "jl7K-_cJW9Zk"
      }
    },
    {
      "cell_type": "code",
      "source": [
        "def model (X_train, Y_train, X_test, Y_test, num_iterations = 2000, learning_rate = 0.5, print_cost = False):\n",
        "  \"\"\"\n",
        "  Builds the logistic regression model by calling the function you've implemented previously\n",
        "\n",
        "  Arguments:\n",
        "  X_train -- training set represented by a numpy array of shape (num_px * num_px * 3, m_train)\n",
        "  Y_train -- training labels represented by a numpy array (vector) of shape (1, m_train)\n",
        "  X_test -- test set represented by a numpy array of shape (num_px * num_px * 3, m_test)\n",
        "  Y_test -- test labels represented by a numpy array (vector) of shape (1, m_test)\n",
        "  num_iterations -- hyperparameter representing the number of iterations to optimize the parameters\n",
        "  learning_rate -- hyperparameter representing the learning rate used in the update rule of optimize()\n",
        "  print_cost -- Set to true to print the cost every 100 iterations\n",
        "\n",
        "  Returns:\n",
        "  d -- dictionary containing information about the model.\n",
        "  \"\"\"\n",
        "  n = X_train.shape[0]\n",
        "  m = X_train.shape[1]\n",
        "  w, b = initialise_with_zeros(n)\n",
        "\n",
        "  params, grads, costs = optimise(w, b, X_train, Y_train, num_iterations, learning_rate, print_cost)\n",
        "\n",
        "  w = params[\"w\"]\n",
        "  b = params[\"b\"]\n",
        "\n",
        "  Y_train_predict = predict(w, b, X_train)\n",
        "  Y_test_predict = predict(w, b, X_test)\n",
        "\n",
        "  # Print train/test errors\n",
        "  print(\"train accuracy: {} %\".format(100 - np.mean(np.abs(Y_train_predict - Y_train)) * 100))\n",
        "  print(\"test accuracy: {} %\".format(100 - np.mean(np.abs(Y_test_predict - Y_test)) * 100))\n",
        "\n",
        "  d = {\n",
        "      \"costs\": costs,\n",
        "      \"Y_test_predict\": Y_test_predict,\n",
        "      \"Y_train_predict\" : Y_train_predict,\n",
        "      \"w\" : w,\n",
        "      \"b\" : b,\n",
        "      \"learning_rate\" : learning_rate,\n",
        "      \"num_iterations\": num_iterations\n",
        "  }\n",
        "\n",
        "  return d"
      ],
      "metadata": {
        "id": "Q3AUDNYQXM0u"
      },
      "execution_count": 79,
      "outputs": []
    },
    {
      "cell_type": "code",
      "source": [
        "d = model(train_set_x, train_set_y, test_set_x, test_set_y, num_iterations = 2000, learning_rate = 0.005, print_cost = False)\n",
        "d"
      ],
      "metadata": {
        "colab": {
          "base_uri": "https://localhost:8080/"
        },
        "id": "8WigVU8gazFa",
        "outputId": "8e2e7b54-1357-4db9-dffd-0fa49cf30476"
      },
      "execution_count": 80,
      "outputs": [
        {
          "output_type": "stream",
          "name": "stdout",
          "text": [
            "train accuracy: 99.04306220095694 %\n",
            "test accuracy: 70.0 %\n"
          ]
        },
        {
          "output_type": "execute_result",
          "data": {
            "text/plain": [
              "{'costs': [0.6931471805599453,\n",
              "  0.5845083636993087,\n",
              "  0.46694904094655476,\n",
              "  0.3760068669480209,\n",
              "  0.33146328932825125,\n",
              "  0.30327306747438293,\n",
              "  0.27987958658260487,\n",
              "  0.26004213692587574,\n",
              "  0.2429406846779662,\n",
              "  0.2280042225672607,\n",
              "  0.2148195137844964,\n",
              "  0.20307819060644985,\n",
              "  0.19254427716706862,\n",
              "  0.18303333796883506,\n",
              "  0.17439859438448874,\n",
              "  0.16652139705400332,\n",
              "  0.15930451829756614,\n",
              "  0.15266732471296504,\n",
              "  0.14654223503982336,\n",
              "  0.14087207570310156],\n",
              " 'Y_test_predict': array([[1, 1, 1, 1, 1, 1, 0, 1, 1, 1, 0, 0, 1, 1, 0, 1, 0, 1, 0, 0, 1, 0,\n",
              "         0, 1, 1, 1, 1, 0, 0, 1, 0, 1, 1, 0, 1, 0, 0, 1, 0, 0, 1, 0, 1, 0,\n",
              "         1, 0, 0, 1, 1, 0]]),\n",
              " 'Y_train_predict': array([[0, 0, 1, 0, 0, 0, 0, 1, 0, 0, 0, 1, 0, 1, 1, 0, 0, 0, 0, 1, 0, 0,\n",
              "         0, 0, 1, 1, 0, 1, 0, 1, 0, 0, 0, 0, 0, 0, 0, 0, 1, 0, 0, 0, 1, 0,\n",
              "         0, 0, 0, 1, 0, 0, 1, 0, 0, 0, 1, 0, 1, 1, 0, 1, 1, 1, 0, 0, 0, 0,\n",
              "         0, 0, 1, 0, 0, 1, 0, 0, 0, 1, 0, 0, 0, 0, 0, 0, 0, 1, 1, 0, 0, 0,\n",
              "         1, 0, 0, 0, 1, 1, 1, 0, 0, 1, 0, 0, 0, 0, 1, 0, 1, 0, 1, 1, 1, 1,\n",
              "         1, 1, 0, 0, 0, 0, 0, 1, 0, 0, 0, 1, 0, 0, 1, 0, 1, 0, 1, 1, 0, 0,\n",
              "         0, 1, 1, 1, 1, 1, 0, 0, 0, 0, 1, 0, 1, 1, 1, 0, 1, 1, 0, 0, 0, 1,\n",
              "         0, 0, 1, 0, 0, 0, 0, 0, 1, 0, 1, 0, 1, 0, 0, 1, 1, 1, 0, 0, 1, 1,\n",
              "         0, 1, 0, 1, 0, 0, 0, 0, 0, 1, 0, 0, 1, 0, 0, 0, 1, 0, 0, 0, 0, 1,\n",
              "         0, 0, 1, 0, 0, 0, 0, 0, 0, 0, 0]]),\n",
              " 'w': array([[ 0.00961402],\n",
              "        [-0.0264683 ],\n",
              "        [-0.01226513],\n",
              "        ...,\n",
              "        [-0.01144453],\n",
              "        [-0.02944783],\n",
              "        [ 0.02378106]]),\n",
              " 'b': -0.015906243999693,\n",
              " 'learning_rate': 0.005,\n",
              " 'num_iterations': 2000}"
            ]
          },
          "metadata": {},
          "execution_count": 80
        }
      ]
    },
    {
      "cell_type": "markdown",
      "source": [
        "## 6 - Evaluating performance of the model"
      ],
      "metadata": {
        "id": "HhpHHkgWbk7E"
      }
    },
    {
      "cell_type": "code",
      "source": [
        "# Plot learning curve (with costs)\n",
        "costs = np.squeeze(d['costs'])\n",
        "plt.plot(costs)\n",
        "plt.ylabel('cost')\n",
        "plt.xlabel('iterations (per hundreds)')\n",
        "plt.title(\"Learning rate =\" + str(d[\"learning_rate\"]))\n",
        "plt.show()"
      ],
      "metadata": {
        "colab": {
          "base_uri": "https://localhost:8080/",
          "height": 472
        },
        "id": "TUE7OJHIbrbY",
        "outputId": "f44d57ee-bf0e-4e2f-9c96-64dd32dc69a0"
      },
      "execution_count": 81,
      "outputs": [
        {
          "output_type": "display_data",
          "data": {
            "text/plain": [
              "<Figure size 640x480 with 1 Axes>"
            ],
            "image/png": "[encoded data removed]"
          },
          "metadata": {}
        }
      ]
    }
  ]
}