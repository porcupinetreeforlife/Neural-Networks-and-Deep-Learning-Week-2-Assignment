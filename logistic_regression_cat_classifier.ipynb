{
  "nbformat": 4,
  "nbformat_minor": 0,
  "metadata": {
    "colab": {
      "provenance": [],
      "authorship_tag": "ABX9TyPsIlIZIJbYEZUgrFkrYX8R",
      "include_colab_link": true
    },
    "kernelspec": {
      "name": "python3",
      "display_name": "Python 3"
    },
    "language_info": {
      "name": "python"
    }
  },
  "cells": [
    {
      "cell_type": "markdown",
      "metadata": {
        "id": "view-in-github",
        "colab_type": "text"
      },
      "source": [
        "<a href=\"https://colab.research.google.com/github/porcupinetreeforlife/Neural-Networks-and-Deep-Learning-Week-2-Assignment/blob/main/logistic_regression_cat_classifier.ipynb\" target=\"_parent\"><img src=\"https://colab.research.google.com/assets/colab-badge.svg\" alt=\"Open In Colab\"/></a>"
      ]
    },
    {
      "cell_type": "markdown",
      "source": [
        "# Logistic Regression Classifier\n",
        "\n",
        "Objective: Build a logistic regression classifier to identify images of cats."
      ],
      "metadata": {
        "id": "L7RaC2QGnBga"
      }
    },
    {
      "cell_type": "markdown",
      "source": [
        "## 1 - Import necessary libraries and load the dataset"
      ],
      "metadata": {
        "id": "WbpcooXSFnXI"
      }
    },
    {
      "cell_type": "code",
      "execution_count": 1,
      "metadata": {
        "id": "prRHktcHmzyp"
      },
      "outputs": [],
      "source": [
        "import numpy as np\n",
        "import matplotlib.pyplot as plt\n",
        "import h5py\n",
        "import scipy\n",
        "from PIL import Image\n",
        "from scipy import ndimage\n",
        "from google.colab import drive\n",
        "\n",
        "%matplotlib inline"
      ]
    },
    {
      "cell_type": "code",
      "source": [
        "drive.mount('/content/drive')"
      ],
      "metadata": {
        "colab": {
          "base_uri": "https://localhost:8080/"
        },
        "id": "LkGr0m1Xtgyw",
        "outputId": "1ba30edd-e09a-4bcd-d2cc-d40a723d64be"
      },
      "execution_count": 2,
      "outputs": [
        {
          "output_type": "stream",
          "name": "stdout",
          "text": [
            "Drive already mounted at /content/drive; to attempt to forcibly remount, call drive.mount(\"/content/drive\", force_remount=True).\n"
          ]
        }
      ]
    },
    {
      "cell_type": "code",
      "source": [
        "!pwd"
      ],
      "metadata": {
        "colab": {
          "base_uri": "https://localhost:8080/"
        },
        "id": "h-y4TxtRuvc2",
        "outputId": "0f3a5d8e-3527-45e0-f858-bcf30a38e29b"
      },
      "execution_count": 3,
      "outputs": [
        {
          "output_type": "stream",
          "name": "stdout",
          "text": [
            "/content\n"
          ]
        }
      ]
    },
    {
      "cell_type": "code",
      "source": [
        "def load_dataset():\n",
        "  train_dataset = h5py.File('/content/drive/MyDrive/Datasets/train_catvnoncat.h5', \"r\")\n",
        "  train_set_x_orig = np.array(train_dataset[\"train_set_x\"][:]) # your train set features\n",
        "  train_set_y_orig = np.array(train_dataset[\"train_set_y\"][:]) # your train set labels\n",
        "\n",
        "  test_dataset = h5py.File('/content/drive/MyDrive/Datasets/test_catvnoncat.h5', \"r\")\n",
        "  test_set_x_orig = np.array(test_dataset[\"test_set_x\"][:]) # your test set features\n",
        "  test_set_y_orig = np.array(test_dataset[\"test_set_y\"][:]) # your test set labels\n",
        "\n",
        "  classes = np.array(test_dataset[\"list_classes\"][:]) # the list of classes\n",
        "\n",
        "  train_set_y_orig = train_set_y_orig.reshape((1, train_set_y_orig.shape[0]))\n",
        "  test_set_y_orig = test_set_y_orig.reshape((1, test_set_y_orig.shape[0]))\n",
        "\n",
        "  return train_set_x_orig, train_set_y_orig, test_set_x_orig, test_set_y_orig, classes"
      ],
      "metadata": {
        "id": "HNyMFor4rulN"
      },
      "execution_count": 4,
      "outputs": []
    },
    {
      "cell_type": "code",
      "source": [
        "# Load the dataset from Google Drive\n",
        "\n",
        "train_set_x_orig, train_set_y, test_set_x_orig, test_set_y, classes = load_dataset()"
      ],
      "metadata": {
        "id": "bXdlj2quv9Uv"
      },
      "execution_count": 5,
      "outputs": []
    },
    {
      "cell_type": "markdown",
      "source": [
        "## 2 - Understand the dataset and perform any necessary transformations"
      ],
      "metadata": {
        "id": "h9AX-1TRFx_H"
      }
    },
    {
      "cell_type": "code",
      "source": [
        "# Show any sample image from the dataset\n",
        "\n",
        "index = 10\n",
        "plt.imshow(train_set_x_orig[index])\n",
        "print(\"y = \" + str(train_set_y[0, index]) +\n",
        "      \", it's a '\" + classes[np.squeeze(train_set_y[:, index])].decode(\"utf-8\") +\n",
        "      \"' picture.\")"
      ],
      "metadata": {
        "colab": {
          "base_uri": "https://localhost:8080/",
          "height": 450
        },
        "id": "j9kf3Yq3wnT6",
        "outputId": "4ce916e4-3f8a-43ae-e394-cb9ab768d59a"
      },
      "execution_count": 6,
      "outputs": [
        {
          "output_type": "stream",
          "name": "stdout",
          "text": [
            "y = 0, it's a 'non-cat' picture.\n"
          ]
        },
        {
          "output_type": "display_data",
          "data": {
            "text/plain": [
              "<Figure size 640x480 with 1 Axes>"
            ],
            "image/png": "[encoded data removed]"
          },
          "metadata": {}
        }
      ]
    },
    {
      "cell_type": "code",
      "source": [
        "# Find the index of the first image of a cat and load the image\n",
        "\n",
        "# Define the condition\n",
        "condition = train_set_y[0, :] == 1\n",
        "\n",
        "# Find all the indices that satisfy the given condition\n",
        "indices = np.where(condition)\n",
        "\n",
        "# Find the first element that satisfies the condition, provided it exists, and print the image\n",
        "if len(indices[0]) > 0:\n",
        "  first_index = indices[0][0]\n",
        "\n",
        "  plt.imshow(train_set_x_orig[first_index])\n",
        "  print(\"y = \" + str(train_set_y[0, first_index]) +\n",
        "        \", it's a '\" + classes[np.squeeze(train_set_y[:, first_index])].decode(\"utf-8\") +\n",
        "        \"' picture.\")"
      ],
      "metadata": {
        "colab": {
          "base_uri": "https://localhost:8080/",
          "height": 450
        },
        "id": "EhebxJUe079j",
        "outputId": "2fcc137c-4fba-4472-f424-d67e9acd64f0"
      },
      "execution_count": 22,
      "outputs": [
        {
          "output_type": "stream",
          "name": "stdout",
          "text": [
            "y = 1, it's a 'cat' picture.\n"
          ]
        },
        {
          "output_type": "display_data",
          "data": {
            "text/plain": [
              "<Figure size 640x480 with 1 Axes>"
            ],
            "image/png": "[encoded data removed]"
          },
          "metadata": {}
        }
      ]
    },
    {
      "cell_type": "code",
      "source": [
        "# Find number of training examples, number of test examples and size of each image\n",
        "\n",
        "m_train = train_set_x_orig.shape[0]\n",
        "m_test = test_set_x_orig.shape[0]\n",
        "num_px = train_set_x_orig.shape[1]\n",
        "\n",
        "print(\"Number of training examples = \" + str(m_train))\n",
        "print(\"Number of test examples = \" + str(m_test))\n",
        "print(\"Size of each image = {}x{} pixels\".format(num_px, num_px))\n",
        "print(\"train_set_x shape: \" + str(train_set_x_orig.shape))\n",
        "print(\"train_set_y shape: \" + str(train_set_y.shape))\n",
        "print(\"test_set_x shape: \" + str(test_set_x_orig.shape))\n",
        "print(\"test_set_y shape: \" + str(test_set_y.shape))"
      ],
      "metadata": {
        "colab": {
          "base_uri": "https://localhost:8080/"
        },
        "id": "3SmmH7aE7gyZ",
        "outputId": "98b1864a-5591-499c-dd41-aadd2a350a24"
      },
      "execution_count": 16,
      "outputs": [
        {
          "output_type": "stream",
          "name": "stdout",
          "text": [
            "Number of training examples = 209\n",
            "Number of test examples = 50\n",
            "Size of each image = 64x64 pixels\n",
            "train_set_x shape: (209, 64, 64, 3)\n",
            "train_set_y shape: (1, 209)\n",
            "test_set_x shape: (50, 64, 64, 3)\n",
            "test_set_y shape: (1, 50)\n"
          ]
        }
      ]
    },
    {
      "cell_type": "code",
      "source": [
        "# Reshape the training and test examples\n",
        "\n",
        "train_set_x_flatten = train_set_x_orig.reshape(train_set_x_orig.shape[0], -1).T\n",
        "test_set_x_flatten = test_set_x_orig.reshape(test_set_x_orig.shape[0], -1).T\n",
        "\n",
        "print (\"train_set_x_flatten shape: \" + str(train_set_x_flatten.shape))\n",
        "print (\"train_set_y shape: \" + str(train_set_y.shape))\n",
        "print (\"test_set_x_flatten shape: \" + str(test_set_x_flatten.shape))\n",
        "print (\"test_set_y shape: \" + str(test_set_y.shape))\n",
        "print (\"sanity check after reshaping: \" + str(train_set_x_flatten[0:5,0]))"
      ],
      "metadata": {
        "colab": {
          "base_uri": "https://localhost:8080/"
        },
        "id": "xtRDkLyj9RJv",
        "outputId": "6826ad2c-07b8-44ed-c025-d27279d42a29"
      },
      "execution_count": 17,
      "outputs": [
        {
          "output_type": "stream",
          "name": "stdout",
          "text": [
            "train_set_x_flatten shape: (12288, 209)\n",
            "train_set_y shape: (1, 209)\n",
            "test_set_x_flatten shape: (12288, 50)\n",
            "test_set_y shape: (1, 50)\n",
            "sanity check after reshaping: [17 31 56 22 33]\n"
          ]
        }
      ]
    },
    {
      "cell_type": "code",
      "source": [
        "# Standardise the dataset by dividing each element of our array by 255\n",
        "\n",
        "train_set_x = train_set_x_flatten / 255\n",
        "test_set_x = test_set_x_flatten / 255"
      ],
      "metadata": {
        "id": "3B87wnTnCoGW"
      },
      "execution_count": 20,
      "outputs": []
    },
    {
      "cell_type": "markdown",
      "source": [
        "## 3 - Building the algorithm"
      ],
      "metadata": {
        "id": "AqeKBp5tFH1M"
      }
    },
    {
      "cell_type": "markdown",
      "source": [
        "The main steps for building a Neural Network are:\n",
        "\n",
        "- Define the model structure (such as number of input features)\n",
        "- Initialize the model's parameters\n",
        "- Loop:\n",
        "  - Calculate current loss (forward propagation)\n",
        "  - Calculate current gradient (backward propagation)\n",
        "  - Update parameters (gradient descent)\n",
        "\n",
        "We will build 1-3 separately and integrate them into one function we call model()."
      ],
      "metadata": {
        "id": "BndwfdT_GFHx"
      }
    },
    {
      "cell_type": "code",
      "source": [
        "# Define the sigmoid function\n",
        "\n",
        "def sigmoid(z):\n",
        "  \"\"\"\n",
        "  Compute the sigmoid of z\n",
        "\n",
        "  Arguments:\n",
        "  z -- A scalar or numpy array of any size\n",
        "\n",
        "  Returns:\n",
        "  sig_z -- Sigmoid of z\n",
        "  \"\"\"\n",
        "\n",
        "  sig_z = 1 / (1 + np.exp(-z)) # Vectorise the whole operation to avoid loops\n",
        "\n",
        "  return sig_z"
      ],
      "metadata": {
        "id": "bFFTmEZKIk7n"
      },
      "execution_count": null,
      "outputs": []
    },
    {
      "cell_type": "code",
      "source": [
        "# Initialise the parameters\n",
        "\n",
        "def initialise_with_zeros(dim):\n",
        "  \"\"\"\n",
        "  Initialise a numpy array of shape (dim, 1) with zeros as its elements\n",
        "\n",
        "  Arguments:\n",
        "  dim -- A scalar specifying the length of the array (or the number of parameters in this case)\n",
        "\n",
        "  Returns:\n",
        "  w -- A vector of zeros of shape (dim, 1)\n",
        "  b -- A scalar corresponding to the bias term\n",
        "  \"\"\"\n",
        "\n",
        "  w = np.zeros((dim, 1))\n",
        "  b = 0\n",
        "\n",
        "  assert(w.shape == (dim, 1))\n",
        "  assert(isinstance(b, float) or isinstance(b, int))\n",
        "\n",
        "  return w, b"
      ],
      "metadata": {
        "id": "CofgfH53LHvV"
      },
      "execution_count": 25,
      "outputs": []
    },
    {
      "cell_type": "code",
      "source": [
        "# Forward and backward propagation\n",
        "\n",
        "def propagate(w, X, b, Y):\n",
        "  \"\"\"\n",
        "  Implement the cost function and its gradient\n",
        "\n",
        "  Arguments:\n",
        "  w -- Weights of parameters, a numpy array of size (num_px * num_px * 3, 1)\n",
        "  X -- Input vector, a numpy array of size (num_px * num_px * 3, number of examples)\n",
        "  b -- Bias term, a scalar\n",
        "  Y -- A \"label\" vector (0 if non-cat, 1 if cat), a numpy array of size (1, number of examples)\n",
        "\n",
        "  Returns:\n",
        "  cost -- The negative log-likelihood cost of the logistic function\n",
        "  dw -- The partial derivative (or gradient descent) of the cost function wrt w, a numpy array of same shape as w\n",
        "  db -- The partial derivative (or gradient descent) of the cost function wrt b, a scalar\n",
        "  \"\"\"\n",
        "\n"
      ],
      "metadata": {
        "id": "gtVKXc--LNiS"
      },
      "execution_count": null,
      "outputs": []
    }
  ]
}